{
 "cells": [
  {
   "cell_type": "code",
   "execution_count": 2,
   "metadata": {},
   "outputs": [],
   "source": [
    "from math import sqrt, tan\n",
    "from scipy import integrate"
   ]
  },
  {
   "cell_type": "code",
   "execution_count": 3,
   "metadata": {},
   "outputs": [],
   "source": [
    "def f_rect(x):\n",
    "    return 1 / sqrt(x + 3)\n",
    "\n",
    "a_rect = 0.6\n",
    "b_rect = 1.5\n",
    "\n",
    "def f_simp(x):\n",
    "    return tan(x**2 + 0.5) / (1 + 2 * x**2)\n",
    "\n",
    "a_simp = 0.4\n",
    "b_simp = 0.8\n",
    "\n",
    "def f_trap(x):\n",
    "    return 1 / sqrt(2 * x**2 + 0.3)\n",
    "    \n",
    "a_trap = 0.8\n",
    "b_trap = 1.7\n",
    "\n",
    "eps = 0.0001"
   ]
  },
  {
   "cell_type": "code",
   "execution_count": 4,
   "metadata": {},
   "outputs": [],
   "source": [
    "def rect_left(f, a, b, n):\n",
    "    h = (b - a) / n\n",
    "    s = 0\n",
    "    for i in range(n):\n",
    "        s += f(a + i * h)\n",
    "    return s * h\n",
    "\n",
    "def rect_right(f, a, b, n):\n",
    "    h = (b - a) / n\n",
    "    s = 0\n",
    "    for i in range(n):\n",
    "        s += f(a + (i + 1) * h)\n",
    "    return s * h\n",
    "\n",
    "def rect_middle(f, a, b, n):\n",
    "    h = (b - a) / n\n",
    "    s = 0\n",
    "    for i in range(n):\n",
    "        s += f(a + (i + 0.5) * h)\n",
    "    return s * h"
   ]
  },
  {
   "cell_type": "code",
   "execution_count": 6,
   "metadata": {},
   "outputs": [
    {
     "name": "stdout",
     "output_type": "stream",
     "text": [
      "Too low accuracy for left rect\n",
      "Too low accuracy for right rect\n",
      "Method of middle rect: 0.4479\n",
      "Check: 0.4479\n"
     ]
    }
   ],
   "source": [
    "if abs(rect_left(f_rect, a_rect, b_rect, 2*10) - rect_left(f_rect, a_rect, b_rect, 10))/3 <= eps:\n",
    "    print(f'Method of left rect: {rect_left(f_rect, a_rect, b_rect, 10):.4f}')\n",
    "else:\n",
    "    print('Too low accuracy for left rect')\n",
    "\n",
    "if abs(rect_right(f_rect, a_rect, b_rect, 2*10) - rect_right(f_rect, a_rect, b_rect, 10))/3 <= eps:\n",
    "    print(f'Method of right rect: {rect_right(f_rect, a_rect, b_rect, 10):.4f}')\n",
    "else:\n",
    "    print('Too low accuracy for right rect')\n",
    "\n",
    "if abs(rect_middle(f_rect, a_rect, b_rect, 2*10) - rect_middle(f_rect, a_rect, b_rect, 10))/3 <= eps:\n",
    "    print(f'Method of middle rect: {rect_middle(f_rect, a_rect, b_rect, 10):.4f}')\n",
    "else:\n",
    "    print('Too low accuracy for middle rect')\n",
    "\n",
    "print(f'Check: {integrate.quad(f_rect, a_rect, b_rect)[0]:.4f}')\n"
   ]
  },
  {
   "cell_type": "code",
   "execution_count": 8,
   "metadata": {},
   "outputs": [],
   "source": [
    "def simpson(f, a, b, n):\n",
    "    h = (b - a) / n\n",
    "    integr = f(a) + f(b)\n",
    "\n",
    "    for i in range(1, n):\n",
    "        if i % 2 == 0:\n",
    "            integr += 2 * f(a + i * h)\n",
    "        else:\n",
    "            integr += 4 * f(a + i * h)\n",
    "    \n",
    "    return integr * h / 3"
   ]
  },
  {
   "cell_type": "code",
   "execution_count": 9,
   "metadata": {},
   "outputs": [
    {
     "name": "stdout",
     "output_type": "stream",
     "text": [
      "Simpson method: 0.2818\n",
      "Check: 0.2817\n"
     ]
    }
   ],
   "source": [
    "if abs(simpson(f_simp, a_simp, b_simp, 2*8) - simpson(f_simp, a_simp, b_simp, 8))/15 <= eps:\n",
    "    print(f'Simpson method: {simpson(f_simp, a_simp, b_simp, 6):.4f}')\n",
    "else:\n",
    "    print('Too low accuracy for Simpson')\n",
    "\n",
    "print(f'Check: {integrate.quad(f_simp, a_simp, b_simp)[0]:.4f}')"
   ]
  },
  {
   "cell_type": "code",
   "execution_count": 10,
   "metadata": {},
   "outputs": [],
   "source": [
    "def trapezoid(f, a, b, n):\n",
    "    h = (b - a) / n\n",
    "    s = 0\n",
    "    for i in range(n):\n",
    "        s += (f(a + i * h) + f(a + (i + 1) * h)) / 2\n",
    "    return s * h"
   ]
  },
  {
   "cell_type": "code",
   "execution_count": 11,
   "metadata": {},
   "outputs": [
    {
     "name": "stdout",
     "output_type": "stream",
     "text": [
      "Trapezoid method: 0.5044\n",
      "Check: 0.5038\n"
     ]
    }
   ],
   "source": [
    "if abs(trapezoid(f_trap, a_trap, b_trap, 2*20) - trapezoid(f_trap, a_trap, b_trap, 20))/3 <= eps:\n",
    "    print(f'Trapezoid method: {trapezoid(f_trap, a_trap, b_trap, 8):.4f}')\n",
    "else:\n",
    "    print('Too low accuracy for trapezoid')\n",
    "\n",
    "print(f'Check: {integrate.quad(f_trap, a_trap, b_trap)[0]:.4f}')"
   ]
  }
 ],
 "metadata": {
  "kernelspec": {
   "display_name": "Python 3.10.1 64-bit",
   "language": "python",
   "name": "python3"
  },
  "language_info": {
   "codemirror_mode": {
    "name": "ipython",
    "version": 3
   },
   "file_extension": ".py",
   "mimetype": "text/x-python",
   "name": "python",
   "nbconvert_exporter": "python",
   "pygments_lexer": "ipython3",
   "version": "3.10.1"
  },
  "orig_nbformat": 4,
  "vscode": {
   "interpreter": {
    "hash": "9d510c4134c8c83d881e395b12e1a77e9e2e9fe690f25cdc8839b735785a9cd2"
   }
  }
 },
 "nbformat": 4,
 "nbformat_minor": 2
}
